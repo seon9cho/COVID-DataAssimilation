{
  "cells": [
    {
      "cell_type": "code",
      "execution_count": 3,
      "metadata": {
        "id": "ShoWNDFXRSEP"
      },
      "outputs": [],
      "source": [
        "from sympy import *\n",
        "from sympy import Function, Symbol"
      ]
    },
    {
      "cell_type": "markdown",
      "metadata": {
        "id": "5M9SVPFzULNc"
      },
      "source": [
        "The SIR model is given by\n",
        "\n",
        "\\begin{equation} \\begin{split} S'&= -kSI\\\\ I'&= kSI-qI\\\\R'&= qI\n",
        "\\end{split}\\end{equation}\n",
        "subject to $S+I+R=1$,\n",
        "where $S$ represents the proportion of the total population that is susceptible to the disease, $I$ represents the proportion of the total population that is infected, and $R$ represents the proportion of the total population that is recovered from the disease."
      ]
    },
    {
      "cell_type": "code",
      "execution_count": 4,
      "metadata": {
        "id": "1KKVOrJmRX34"
      },
      "outputs": [],
      "source": [
        "# initialize ODE dependent variables\n",
        "S, I, R = symbols('S,I,R')\n",
        "\n",
        "# initialize parmeters\n",
        "k, q = symbols('k,q')\n",
        "\n",
        "sys_vars = [S,I,R] # vector of ODE variables\n",
        "params = [k,q] # vector of parameters\n",
        "\n",
        "Id,Rd = symbols('Id,Rd') # data for the variables\n",
        "\n",
        "# functional we wish to minimize\n",
        "J_integrand = (I-Id)**2+(R-Rd)**2\n",
        "\n",
        "# Right hand side of the ODE (must be first order IVP)\n",
        "RHS_ODE = [-k*S*I,k*S*I-q*I,q*I]\n"
      ]
    },
    {
      "cell_type": "code",
      "execution_count": 5,
      "metadata": {
        "colab": {
          "base_uri": "https://localhost:8080/"
        },
        "id": "5eqRz2gcRbQm",
        "outputId": "cdbc190f-7e25-4899-ab78-846699018e54"
      },
      "outputs": [
        {
          "name": "stdout",
          "output_type": "stream",
          "text": [
            "[P_S, P_I, P_R]\n"
          ]
        }
      ],
      "source": [
        "# create adjoint variables\n",
        "advars = []\n",
        "for j in range(len(sys_vars)):\n",
        "  advars.append(sympify(\"P_{}\".format(str(sys_vars[j]))))\n",
        "print(advars)"
      ]
    },
    {
      "cell_type": "code",
      "execution_count": 7,
      "metadata": {
        "colab": {
          "base_uri": "https://localhost:8080/"
        },
        "id": "WNLL6vk1RpcG",
        "outputId": "6e2fb968-d47e-469c-ec91-b2234fc9b51c"
      },
      "outputs": [
        {
          "data": {
            "text/plain": [
              "[-I*P_I*k + I*P_S*k, 2*I - 2*Id - P_I*(S*k - q) - P_R*q + P_S*S*k, 2*R - 2*Rd]"
            ]
          },
          "execution_count": 7,
          "metadata": {},
          "output_type": "execute_result"
        }
      ],
      "source": [
        "# Find the RHS of the adjoint equations.\n",
        "\n",
        "# WARNING: This assumes that J looks like $\\int_0^T (I-I_{observations})^2dt$ and not like $\\int_0^T k*(I-I_{observations})^2dt$.\n",
        "\n",
        "# WARNING: Make sure the sign is right for these based on how you set up your augmented functional.\n",
        "\n",
        "d_sys = []\n",
        "for j in range(len(sys_vars)):\n",
        "  derivative = diff(J_integrand, sys_vars[j])\n",
        "  for i, rhs in enumerate(RHS_ODE):\n",
        "    derivative -= diff(rhs, sys_vars[j])*advars[i]\n",
        "  d_sys.append(derivative)\n",
        "\n",
        "d_sys"
      ]
    },
    {
      "cell_type": "code",
      "execution_count": 9,
      "metadata": {
        "id": "WkwtxvMWS5e6"
      },
      "outputs": [
        {
          "data": {
            "text/plain": [
              "[-I*P_I*S + I*P_S*S, I*P_I - I*P_R]"
            ]
          },
          "execution_count": 9,
          "metadata": {},
          "output_type": "execute_result"
        }
      ],
      "source": [
        "d_param = []\n",
        "for j in range(len(params)):\n",
        "  derivative = diff(J_integrand, params[j])\n",
        "  for i, rhs in enumerate(RHS_ODE):\n",
        "    derivative -= diff(rhs, params[j])*advars[i]\n",
        "  d_param.append(derivative)\n",
        "\n",
        "d_param"
      ]
    },
    {
      "cell_type": "code",
      "execution_count": 10,
      "metadata": {
        "id": "E3B7kJZkUF5Q"
      },
      "outputs": [
        {
          "data": {
            "text/latex": [
              "$\\displaystyle - I P_{I} S + I P_{S} S$"
            ],
            "text/plain": [
              "-I*P_I*S + I*P_S*S"
            ]
          },
          "execution_count": 10,
          "metadata": {},
          "output_type": "execute_result"
        }
      ],
      "source": [
        "d_param[0]"
      ]
    },
    {
      "cell_type": "code",
      "execution_count": null,
      "metadata": {},
      "outputs": [],
      "source": []
    }
  ],
  "metadata": {
    "colab": {
      "provenance": []
    },
    "kernelspec": {
      "display_name": "Python 3",
      "name": "python3"
    },
    "language_info": {
      "codemirror_mode": {
        "name": "ipython",
        "version": 3
      },
      "file_extension": ".py",
      "mimetype": "text/x-python",
      "name": "python",
      "nbconvert_exporter": "python",
      "pygments_lexer": "ipython3",
      "version": "3.11.3"
    }
  },
  "nbformat": 4,
  "nbformat_minor": 0
}
